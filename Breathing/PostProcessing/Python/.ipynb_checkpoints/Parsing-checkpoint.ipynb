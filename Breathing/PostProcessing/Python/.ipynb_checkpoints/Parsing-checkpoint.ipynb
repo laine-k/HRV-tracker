{
 "cells": [
  {
   "cell_type": "code",
   "execution_count": 82,
   "metadata": {},
   "outputs": [
    {
     "data": {
      "text/plain": [
       "1440"
      ]
     },
     "execution_count": 82,
     "metadata": {},
     "output_type": "execute_result"
    }
   ],
   "source": [
    "from numpy import genfromtxt\n",
    "\n",
    "motionData = genfromtxt(r'C:\\Users\\OndrejSpetko\\Desktop\\School\\MED7\\HRV-tracker\\Breathing\\motiondetection\\motiondetection\\out.txt', delimiter=',')\n",
    "motionData.shape[0]"
   ]
  },
  {
   "cell_type": "code",
   "execution_count": 74,
   "metadata": {},
   "outputs": [
    {
     "data": {
      "text/plain": [
       "1232"
      ]
     },
     "execution_count": 74,
     "metadata": {},
     "output_type": "execute_result"
    }
   ],
   "source": [
    "FSR_IR = genfromtxt(r'C:\\Users\\OndrejSpetko\\Desktop\\School\\MED7\\HRV-tracker\\Breathing\\SerialListener\\Data\\1.txt', delimiter=',')\n",
    "FSR_IR.shape[0]"
   ]
  },
  {
   "cell_type": "code",
   "execution_count": 161,
   "metadata": {},
   "outputs": [],
   "source": [
    "def scale(a):\n",
    "    scalar = (np.mean(a, axis=0) - np.mean(motionData[:,1], axis=0))/np.mean(motionData[:,1], axis=0)\n",
    "    #print(scalar)\n",
    "    out = np.array(a, dtype=float)/scalar*30\n",
    "    out -= min(out)\n",
    "    return out"
   ]
  },
  {
   "cell_type": "code",
   "execution_count": 83,
   "metadata": {},
   "outputs": [
    {
     "data": {
      "text/plain": [
       "array([[ 0.4      ,  2.7495046],\n",
       "       [ 0.4      ,  5.769035 ],\n",
       "       [ 0.44     ,  5.769035 ],\n",
       "       ...,\n",
       "       [59.96     ,  4.6804237],\n",
       "       [60.       ,  3.9371364],\n",
       "       [60.       ,  7.2960124]])"
      ]
     },
     "execution_count": 83,
     "metadata": {},
     "output_type": "execute_result"
    }
   ],
   "source": [
    "import numpy as np\n",
    "import math\n",
    "\n",
    "while motionData.shape[0] > FSR_IR.shape[0] :\n",
    "    every = math.ceil(motionData.shape[0]/(motionData.shape[0] - FSR_IR.shape[0]))\n",
    "    motionData = np.delete(motionData, list(range(0, motionData.shape[0], every)), axis=0)\n",
    "motionData.shape"
   ]
  },
  {
   "cell_type": "code",
   "execution_count": 92,
   "metadata": {},
   "outputs": [
    {
     "data": {
      "text/plain": [
       "array([0.02818568, 0.05913944, 0.05913944, ..., 0.04797988, 0.04036031,\n",
       "       0.07479276])"
      ]
     },
     "execution_count": 92,
     "metadata": {},
     "output_type": "execute_result"
    }
   ],
   "source": [
    "from sklearn import preprocessing\n",
    "\n",
    "# Normalize motion data\n",
    "temp = np.array(motionData[:, 1])\n",
    "temp.shape\n",
    "motionDataNorm = preprocessing.normalize([temp])[0]\n",
    "motionDataNorm"
   ]
  },
  {
   "cell_type": "code",
   "execution_count": 112,
   "metadata": {},
   "outputs": [
    {
     "data": {
      "text/plain": [
       "array([391., 391., 391., ..., 391., 390., 390.])"
      ]
     },
     "execution_count": 112,
     "metadata": {},
     "output_type": "execute_result"
    }
   ],
   "source": [
    "np.array(FSR_IR[:, 0])"
   ]
  },
  {
   "cell_type": "code",
   "execution_count": 115,
   "metadata": {},
   "outputs": [
    {
     "data": {
      "text/plain": [
       "array([2.7495046, 5.769035 , 5.769035 , ..., 4.6804237, 3.9371364,\n",
       "       7.2960124])"
      ]
     },
     "execution_count": 115,
     "metadata": {},
     "output_type": "execute_result"
    }
   ],
   "source": [
    "motionData[:,1]"
   ]
  },
  {
   "cell_type": "code",
   "execution_count": 122,
   "metadata": {},
   "outputs": [
    {
     "name": "stdout",
     "output_type": "stream",
     "text": [
      "258.8743616987067\n"
     ]
    },
    {
     "data": {
      "text/plain": [
       "array([1.51038518, 1.51038518, 1.51038518, ..., 1.51038518, 1.5065223 ,\n",
       "       1.5065223 ])"
      ]
     },
     "execution_count": 122,
     "metadata": {},
     "output_type": "execute_result"
    }
   ],
   "source": [
    "scale(np.array(FSR_IR[:, 0]))"
   ]
  },
  {
   "cell_type": "code",
   "execution_count": 162,
   "metadata": {},
   "outputs": [],
   "source": [
    "# Normalize FSR data\n",
    "temp = scale(np.array(FSR_IR[:, 0]))\n",
    "#FSRDataNorm = preprocessing.normalize([temp])[0]\n",
    "#FSRDataNorm.shape\n",
    "FSRData = temp"
   ]
  },
  {
   "cell_type": "code",
   "execution_count": 163,
   "metadata": {},
   "outputs": [],
   "source": [
    "# Normalize IR data\n",
    "temp = scale(np.array(FSR_IR[:, 1]))\n",
    "#IRDataNorm = preprocessing.normalize([temp])[0]\n",
    "#IRDataNorm.shape\n",
    "IRData = temp"
   ]
  },
  {
   "cell_type": "code",
   "execution_count": 164,
   "metadata": {},
   "outputs": [
    {
     "data": {
      "text/plain": [
       "'file://C:\\\\Users\\\\OndrejSpetko\\\\Desktop\\\\School\\\\MED7\\\\HRV-tracker\\\\Breathing\\\\PostProcessing\\\\Python\\\\Scatter.html'"
      ]
     },
     "execution_count": 164,
     "metadata": {},
     "output_type": "execute_result"
    }
   ],
   "source": [
    "#Scatter plot\n",
    "import plotly as py\n",
    "import plotly.graph_objs as go\n",
    "\n",
    "# Create traces\n",
    "trace0 = go.Scatter(\n",
    "    x = motionData[:,0],\n",
    "    y = motionData[:,1],\n",
    "    mode = 'lines',\n",
    "    name = 'Motion'\n",
    ")\n",
    "trace1 = go.Scatter(\n",
    "    x = motionData[:,0],\n",
    "    y = FSRData,\n",
    "    mode = 'lines',\n",
    "    name = 'FSR'\n",
    ")\n",
    "trace2 = go.Scatter(\n",
    "    x = motionData[:,0],\n",
    "    y = IRData,\n",
    "    mode = 'lines',\n",
    "    name = 'IR'\n",
    ")\n",
    "\n",
    "#data = [trace0, trace1, trace2]\n",
    "data = [trace2, trace1, trace0]\n",
    "\n",
    "# Plot and embed in ipython notebook!\n",
    "py.offline.plot(data, filename='Scatter.html')"
   ]
  }
 ],
 "metadata": {
  "kernelspec": {
   "display_name": "Python 3",
   "language": "python",
   "name": "python3"
  },
  "language_info": {
   "codemirror_mode": {
    "name": "ipython",
    "version": 3
   },
   "file_extension": ".py",
   "mimetype": "text/x-python",
   "name": "python",
   "nbconvert_exporter": "python",
   "pygments_lexer": "ipython3",
   "version": "3.6.4"
  }
 },
 "nbformat": 4,
 "nbformat_minor": 2
}
