{
 "cells": [
  {
   "cell_type": "code",
   "execution_count": 115,
   "metadata": {},
   "outputs": [
    {
     "data": {
      "text/plain": [
       "2900"
      ]
     },
     "execution_count": 115,
     "metadata": {},
     "output_type": "execute_result"
    }
   ],
   "source": [
    "#Motion file\n",
    "from numpy import genfromtxt\n",
    "\n",
    "motionRawData = genfromtxt(r'C:\\Users\\OndrejSpetko\\Desktop\\School\\MED7\\HRV-tracker\\Breathing\\motiondetection\\motiondetection\\out.txt', delimiter=',')\n",
    "motionRawData.shape[0]"
   ]
  },
  {
   "cell_type": "code",
   "execution_count": 116,
   "metadata": {},
   "outputs": [
    {
     "data": {
      "text/plain": [
       "1232"
      ]
     },
     "execution_count": 116,
     "metadata": {},
     "output_type": "execute_result"
    }
   ],
   "source": [
    "#Sensor file\n",
    "FSR_IR = genfromtxt(r'C:\\Users\\OndrejSpetko\\Desktop\\School\\MED7\\HRV-tracker\\Breathing\\SerialListener\\Data\\1.txt', delimiter=',')\n",
    "FSR_IR.shape[0]"
   ]
  },
  {
   "cell_type": "code",
   "execution_count": 117,
   "metadata": {},
   "outputs": [],
   "source": [
    "#Functions\n",
    "def scale(a):\n",
    "    scalar = (np.mean(a, axis=0) - np.mean(motionData, axis=0))/np.mean(motionData, axis=0)\n",
    "    #print(scalar)\n",
    "    out = np.array(a, dtype=float)/scalar*30\n",
    "    return out\n",
    "\n",
    "def move(a):\n",
    "    out = a\n",
    "    out -= min(out) \n",
    "    return out"
   ]
  },
  {
   "cell_type": "code",
   "execution_count": 118,
   "metadata": {},
   "outputs": [
    {
     "data": {
      "text/plain": [
       "(1232, 2)"
      ]
     },
     "execution_count": 118,
     "metadata": {},
     "output_type": "execute_result"
    }
   ],
   "source": [
    "#Match sizes\n",
    "import numpy as np\n",
    "import math\n",
    "\n",
    "while motionRawData.shape[0] > FSR_IR.shape[0] :\n",
    "    every = math.ceil(motionRawData.shape[0]/(motionRawData.shape[0] - FSR_IR.shape[0]))\n",
    "    motionRawData = np.delete(motionRawData, list(range(0, motionRawData.shape[0], every)), axis=0)\n",
    "motionRawData.shape"
   ]
  },
  {
   "cell_type": "code",
   "execution_count": 119,
   "metadata": {},
   "outputs": [],
   "source": [
    "#Time data\n",
    "timeData = motionRawData[:, 0]"
   ]
  },
  {
   "cell_type": "code",
   "execution_count": 120,
   "metadata": {},
   "outputs": [],
   "source": [
    "# Motion data\n",
    "temp = motionRawData[:, 1]\n",
    "motionData = signal.savgol_filter(temp, 151, 3)\n",
    "motionData = np.interp(motionData, (motionData.min(), motionData.max()), (0, 10))\n",
    "#from sklearn import preprocessing\n",
    "#motionDataNorm = np.array(motionData[:, 1])\n",
    "#motionDataNorm = preprocessing.normalize([motionDataNorm])[0]\n",
    "#motionDataNorm"
   ]
  },
  {
   "cell_type": "code",
   "execution_count": 121,
   "metadata": {},
   "outputs": [],
   "source": [
    "# Normalize FSR data\n",
    "#FSRData = scale(np.array(FSR_IR[:, 0]))\n",
    "FSRData = np.array(FSR_IR[:, 0])\n",
    "FSRData = signal.savgol_filter(FSRData, 151, 3)\n",
    "FSRData = signal.savgol_filter(FSRData, 151, 3)\n",
    "FSRData = np.interp(FSRData, (FSRData.min(), FSRData.max()), (0, 10))\n",
    "#FSRData = move(FSRData)\n",
    "#FSRDataNorm = preprocessing.normalize([temp])[0]\n",
    "#FSRDataNorm.shape"
   ]
  },
  {
   "cell_type": "code",
   "execution_count": 122,
   "metadata": {},
   "outputs": [],
   "source": [
    "# Normalize IR data\n",
    "#IRData = scale(np.array(FSR_IR[:, 1]))\n",
    "IRData = np.array(FSR_IR[:, 1])\n",
    "IRData = signal.savgol_filter(IRData, 151, 3)\n",
    "IRData = signal.savgol_filter(IRData, 151, 3)\n",
    "IRData = np.interp(IRData, (IRData.min(), IRData.max()), (0, 10))\n",
    "#IRData = move(IRData)\n",
    "#IRDataNorm = preprocessing.normalize([temp])[0]\n",
    "#IRDataNorm.shape"
   ]
  },
  {
   "cell_type": "code",
   "execution_count": 123,
   "metadata": {},
   "outputs": [
    {
     "data": {
      "text/plain": [
       "'file://C:\\\\Users\\\\OndrejSpetko\\\\Desktop\\\\School\\\\MED7\\\\HRV-tracker\\\\Breathing\\\\PostProcessing\\\\Python\\\\Scatter.html'"
      ]
     },
     "execution_count": 123,
     "metadata": {},
     "output_type": "execute_result"
    }
   ],
   "source": [
    "#Scatter plot\n",
    "import plotly as py\n",
    "import plotly.graph_objs as go\n",
    "from scipy import signal\n",
    "\n",
    "# Create traces\n",
    "trace0 = go.Scatter(\n",
    "    x = timeData,\n",
    "    y = motionData,\n",
    "    mode = 'lines',\n",
    "    name = 'Motion'\n",
    ")\n",
    "trace1 = go.Scatter(\n",
    "    x = timeData,\n",
    "    y = FSRData,\n",
    "    mode = 'lines',\n",
    "    name = 'FSR'\n",
    ")\n",
    "trace2 = go.Scatter(\n",
    "    x = timeData,\n",
    "    y = IRData,\n",
    "    mode = 'lines',\n",
    "    name = 'IR'\n",
    ")\n",
    "\n",
    "#data = [trace0, trace1, trace2]\n",
    "data = [trace0, trace1, trace2]\n",
    "\n",
    "# Plot and embed in ipython notebook!\n",
    "py.offline.plot(data, filename='Scatter.html')"
   ]
  },
  {
   "cell_type": "code",
   "execution_count": 124,
   "metadata": {},
   "outputs": [
    {
     "data": {
      "text/plain": [
       "(array([[1.        , 0.93499634],\n",
       "        [0.93499634, 1.        ]]), array([[1.        , 0.47640641],\n",
       "        [0.47640641, 1.        ]]), array([[1.        , 0.54982098],\n",
       "        [0.54982098, 1.        ]]))"
      ]
     },
     "execution_count": 124,
     "metadata": {},
     "output_type": "execute_result"
    }
   ],
   "source": [
    "#Correlation coefficient\n",
    "#np.corrcoef(motionData, FSRData), np.corrcoef(motionData, IRData), np.corrcoef(FSRData, IRData)"
   ]
  },
  {
   "cell_type": "code",
   "execution_count": 131,
   "metadata": {},
   "outputs": [
    {
     "data": {
      "text/plain": [
       "'file://C:\\\\Users\\\\OndrejSpetko\\\\Desktop\\\\School\\\\MED7\\\\HRV-tracker\\\\Breathing\\\\PostProcessing\\\\Python\\\\Bar.html'"
      ]
     },
     "execution_count": 131,
     "metadata": {},
     "output_type": "execute_result"
    }
   ],
   "source": [
    "data2 = [go.Bar(\n",
    "            x=['Motion vs. FSR', 'Motion vs. IR', 'IR vs. FSR'],\n",
    "            y=[np.corrcoef(motionData, FSRData)[0][1], np.corrcoef(motionData, IRData)[0][1], np.corrcoef(FSRData, IRData)[0][1]])]\n",
    "\n",
    "layout = go.Layout(\n",
    "    title='Correlation Coefficient of Sensors',\n",
    ")\n",
    "\n",
    "fig = go.Figure(data=data2, layout=layout)\n",
    "py.offline.plot(fig, filename='Bar.html')"
   ]
  },
  {
   "cell_type": "code",
   "execution_count": 92,
   "metadata": {},
   "outputs": [
    {
     "data": {
      "text/plain": [
       "(1232, 2)"
      ]
     },
     "execution_count": 92,
     "metadata": {},
     "output_type": "execute_result"
    }
   ],
   "source": [
    "#Joining time + motion\n",
    "temp = np.vstack((timeData, motionData))\n",
    "\n",
    "size1 = temp[0].size\n",
    "size2 = temp.size\n",
    "\n",
    "temp = np.reshape(temp, size2, order='F')\n",
    "\n",
    "temp = temp.reshape((size1, 2))\n",
    "temp1 = temp\n",
    "temp1.shape"
   ]
  },
  {
   "cell_type": "code",
   "execution_count": 93,
   "metadata": {},
   "outputs": [
    {
     "data": {
      "text/plain": [
       "(1232, 2)"
      ]
     },
     "execution_count": 93,
     "metadata": {},
     "output_type": "execute_result"
    }
   ],
   "source": [
    "#joining FSR + IR\n",
    "temp = np.vstack((FSRData, IRData))\n",
    "size1 = temp[0].size\n",
    "size2 = temp.size\n",
    "\n",
    "temp = np.reshape(temp, size2, order='F')\n",
    "\n",
    "temp = temp.reshape((size1, 2))\n",
    "temp2 = temp\n",
    "temp2.shape"
   ]
  },
  {
   "cell_type": "code",
   "execution_count": 94,
   "metadata": {},
   "outputs": [
    {
     "data": {
      "text/plain": [
       "(array([[ 0.4       , 10.        ,  1.06412869,  0.        ],\n",
       "        [ 0.4       ,  9.75413047,  1.2365006 ,  0.09717938],\n",
       "        [ 0.44      ,  9.51199562,  1.40724152,  0.19346827],\n",
       "        ...,\n",
       "        [59.96      ,  5.08069565,  2.97424541,  3.10324491],\n",
       "        [60.        ,  5.43052125,  3.10431292,  3.0810266 ],\n",
       "        [60.        ,  5.79414065,  3.24077237,  3.0584794 ]]), (1232, 4))"
      ]
     },
     "execution_count": 94,
     "metadata": {},
     "output_type": "execute_result"
    }
   ],
   "source": [
    "#Joining TimeMotion + FSRIR\n",
    "final = np.hstack((temp1, temp2))\n",
    "final, final.shape"
   ]
  },
  {
   "cell_type": "code",
   "execution_count": 96,
   "metadata": {},
   "outputs": [],
   "source": [
    "#Saving to file\n",
    "#np.savetxt(r\"Data\\out.txt\", final, delimiter=\",\", fmt='%s')"
   ]
  }
 ],
 "metadata": {
  "kernelspec": {
   "display_name": "Python 3",
   "language": "python",
   "name": "python3"
  },
  "language_info": {
   "codemirror_mode": {
    "name": "ipython",
    "version": 3
   },
   "file_extension": ".py",
   "mimetype": "text/x-python",
   "name": "python",
   "nbconvert_exporter": "python",
   "pygments_lexer": "ipython3",
   "version": "3.6.4"
  }
 },
 "nbformat": 4,
 "nbformat_minor": 2
}
